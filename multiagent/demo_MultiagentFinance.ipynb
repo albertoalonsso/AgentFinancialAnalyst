{
  "cells": [
    {
      "cell_type": "markdown",
      "metadata": {},
      "source": [
        "# **DOWNLOAD SW REQUIREMENTS**"
      ]
    },
    {
      "cell_type": "code",
      "execution_count": 165,
      "metadata": {
        "id": "_WA6gixb2E8e"
      },
      "outputs": [],
      "source": [
        "!pip install -q langchain==0.3.27 \\\n",
        "                langgraph==0.6.7 \\\n",
        "                langchain-openai==0.3.32 \\\n",
        "                langchain_experimental==0.3.4 \\\n",
        "                langchain_community==0.3.29 \\\n",
        "                python-dotenv==1.0.1 \\\n",
        "                langchain-core==0.3.75 \\\n",
        "                serpapi==0.1.5 \\\n",
        "                google-search-results==2.4.2 \\\n",
        "                exa_py==1.7.0"
      ]
    },
    {
      "cell_type": "code",
      "execution_count": null,
      "metadata": {},
      "outputs": [],
      "source": [
        "!pip install yahooquery"
      ]
    },
    {
      "cell_type": "markdown",
      "metadata": {
        "id": "7jSzeA_HSVdM"
      },
      "source": [
        "# **IMPORTS · LIBRARIES · APIs**"
      ]
    },
    {
      "cell_type": "code",
      "execution_count": 166,
      "metadata": {
        "colab": {
          "base_uri": "https://localhost:8080/"
        },
        "id": "eqsTtJpAj8v5",
        "outputId": "470f74e7-983f-4dcd-e4bc-2e6144819713"
      },
      "outputs": [
        {
          "name": "stdout",
          "output_type": "stream",
          "text": [
            "Drive already mounted at /content/drive; to attempt to forcibly remount, call drive.mount(\"/content/drive\", force_remount=True).\n"
          ]
        }
      ],
      "source": [
        "import sys\n",
        "from google.colab import drive\n",
        "drive.mount('/content/drive')"
      ]
    },
    {
      "cell_type": "code",
      "execution_count": 167,
      "metadata": {
        "colab": {
          "base_uri": "https://localhost:8080/"
        },
        "id": "70nfuyoMkA38",
        "outputId": "de519b1d-9283-4c61-e011-ea313b480e89"
      },
      "outputs": [
        {
          "name": "stdout",
          "output_type": "stream",
          "text": [
            "/content/drive/MyDrive/AIFI\n"
          ]
        }
      ],
      "source": [
        "%cd /content/drive/MyDrive/AIFI"
      ]
    },
    {
      "cell_type": "code",
      "execution_count": null,
      "metadata": {
        "id": "Ek2Mxq4B6Uty"
      },
      "outputs": [],
      "source": [
        "from pydantic import BaseModel\n",
        "from typing import TypedDict, Annotated, Literal, List, Dict, Any, Optional\n",
        "from datetime import datetime, timedelta, timezone\n",
        "import re\n",
        "import time"
      ]
    },
    {
      "cell_type": "code",
      "execution_count": null,
      "metadata": {
        "id": "zIEdEPfJemBG"
      },
      "outputs": [],
      "source": [
        "import pandas as pd\n",
        "import yfinance as yf\n",
        "import numpy as np\n",
        "import os\n",
        "import operator\n",
        "import functools\n",
        "from dotenv import load_dotenv"
      ]
    },
    {
      "cell_type": "code",
      "execution_count": 170,
      "metadata": {
        "id": "q4zxMPkV-txL"
      },
      "outputs": [],
      "source": [
        "from tenacity import retry, stop_after_attempt, wait_exponential, retry_if_exception_type"
      ]
    },
    {
      "cell_type": "code",
      "execution_count": null,
      "metadata": {
        "id": "TUWqpd57-rNi"
      },
      "outputs": [],
      "source": [
        "from langchain_openai import ChatOpenAI\n",
        "from langchain_openai.chat_models import ChatOpenAI\n",
        "from langchain_community.tools.tavily_search import TavilySearchResults\n",
        "from langchain_community.document_loaders import WebBaseLoader\n",
        "from langchain_core.tools import tool\n",
        "from langchain_core.prompts import ChatPromptTemplate, MessagesPlaceholder\n",
        "from langchain_core.messages import BaseMessage, HumanMessage\n",
        "from langchain.agents import AgentExecutor, create_openai_functions_agent\n",
        "from langchain.output_parsers.openai_functions import JsonOutputFunctionsParser\n",
        "from langchain_community.utilities import SerpAPIWrapper\n",
        "from langchain_experimental.utilities import PythonREPL"
      ]
    },
    {
      "cell_type": "code",
      "execution_count": null,
      "metadata": {
        "id": "CilZdyWJ-y94"
      },
      "outputs": [],
      "source": [
        "from langgraph.graph import StateGraph, END, START"
      ]
    },
    {
      "cell_type": "code",
      "execution_count": null,
      "metadata": {},
      "outputs": [],
      "source": [
        "from IPython.display import Image, display"
      ]
    },
    {
      "cell_type": "code",
      "execution_count": 174,
      "metadata": {
        "id": "w6AprBBvxkz_"
      },
      "outputs": [],
      "source": [
        "from dataclasses import dataclass"
      ]
    },
    {
      "cell_type": "code",
      "execution_count": 175,
      "metadata": {
        "id": "plqwoH84bXaG"
      },
      "outputs": [],
      "source": [
        "load_dotenv()\n",
        "TAVILY_OPEN_KEY = os.getenv(\"TAVILY_OPEN_KEY\")\n",
        "tavily_tool = TavilySearchResults(max_results=8, search_depth=\"advanced\", tavily_api_key=TAVILY_OPEN_KEY)\n",
        "MODEL = os.getenv(\"OPENAI_MODEL\", \"gpt-4o-mini\")\n",
        "llm = ChatOpenAI(model=MODEL, temperature=0.1)"
      ]
    },
    {
      "cell_type": "markdown",
      "metadata": {},
      "source": [
        "# **CREATE AGENT**"
      ]
    },
    {
      "cell_type": "code",
      "execution_count": null,
      "metadata": {},
      "outputs": [],
      "source": [
        "def create_agent(\n",
        "    llm: ChatOpenAI,\n",
        "    tools: list,\n",
        "    system_prompt: str,\n",
        ") -> str:\n",
        "    \"\"\"Create a function-calling agent and add it to the graph.\"\"\"\n",
        "    system_prompt += \"\\nWork autonomously according to your specialty, using the tools available to you.\"\n",
        "    \" Do not ask for clarification.\"\n",
        "    \" Your other team members (and other teams) will collaborate with you with their own specialties.\"\n",
        "    \" You are chosen for a reason! You are one of the following team members: {team_members}.\"\n",
        "    prompt = ChatPromptTemplate.from_messages(\n",
        "        [\n",
        "            (\n",
        "                \"system\",\n",
        "                system_prompt,\n",
        "            ),\n",
        "            MessagesPlaceholder(variable_name=\"messages\"),\n",
        "            MessagesPlaceholder(variable_name=\"agent_scratchpad\"),\n",
        "        ]\n",
        "    )\n",
        "    agent = create_openai_functions_agent(llm, tools, prompt)\n",
        "    executor = AgentExecutor(agent=agent, tools=tools, handle_parsing_errors=True)\n",
        "    return executor"
      ]
    },
    {
      "cell_type": "code",
      "execution_count": null,
      "metadata": {},
      "outputs": [],
      "source": [
        "def agent_node (state, agent, name):\n",
        "    result = agent.invoke(state)\n",
        "    return {\"messages\": [HumanMessage(content=result[\"output\"], name=name)]}"
      ]
    },
    {
      "cell_type": "code",
      "execution_count": null,
      "metadata": {},
      "outputs": [],
      "source": [
        "def create_team_supervisor (llm: ChatOpenAI, system_prompt, members) -> str:\n",
        "    \"\"\"An LLM-based router\"\"\"\n",
        "    options = [\"FINISH\"] + members\n",
        "    function_def = {\n",
        "        \"name\": \"route\",\n",
        "        \"description\": \"Select the next role.\",\n",
        "        \"parameters\": {\n",
        "            \"title\": \"routeSchema\",\n",
        "            \"type\": \"object\",\n",
        "            \"properties\": {\n",
        "                \"next\": {\n",
        "                    \"title\": \"Next\",\n",
        "                    \"anyOf\": [\n",
        "                        {\"enum\": options},\n",
        "                    ],\n",
        "                },\n",
        "            },\n",
        "            \"required\": [\"next\"],\n",
        "        },\n",
        "    }\n",
        "\n",
        "    prompt = ChatPromptTemplate.from_messages(\n",
        "        [\n",
        "            (\"system\", system_prompt),\n",
        "            MessagesPlaceholder(variable_name=\"messages\"),\n",
        "            (\n",
        "                \"system\",\n",
        "                \"Given the conversation above\"\n",
        "            ),\n",
        "        ]\n",
        "    ).partial(options=str(options), team_members=\",\".join(members))\n",
        "    return(\n",
        "        prompt\n",
        "        | llm.bind_functions(functions=[function_def], function_call=\"route\")\n",
        "        | JsonOutputFunctionsParser()\n",
        "    )"
      ]
    },
    {
      "cell_type": "markdown",
      "metadata": {
        "id": "MEPpYdDWSxOw"
      },
      "source": [
        "# **CLASS DEFINITIONS**"
      ]
    },
    {
      "cell_type": "markdown",
      "metadata": {},
      "source": [
        "**Research Analyst, Risk Analyst and CIO agents follow the next Class**"
      ]
    },
    {
      "cell_type": "code",
      "execution_count": null,
      "metadata": {},
      "outputs": [],
      "source": [
        "class FinanceTeamState (TypedDict):\n",
        "    messages: Annotated[List[BaseMessage], operator.add]\n",
        "    team_members: str\n",
        "    next: str\n",
        "    current_files: str"
      ]
    },
    {
      "cell_type": "code",
      "execution_count": null,
      "metadata": {},
      "outputs": [],
      "source": [
        "# def prelude (state):"
      ]
    },
    {
      "cell_type": "markdown",
      "metadata": {},
      "source": [
        "# **UTILITIES**"
      ]
    },
    {
      "cell_type": "markdown",
      "metadata": {},
      "source": [
        "## **PREPROCESSING**"
      ]
    },
    {
      "cell_type": "code",
      "execution_count": 178,
      "metadata": {
        "id": "MyM6VITDTibw"
      },
      "outputs": [],
      "source": [
        "def _log(state: dict, msg: str) -> dict:\n",
        "    \"\"\"Append logs sin acoplar a tipos del grafo.\"\"\"\n",
        "    logs = list(state.get(\"logs\") or [])\n",
        "    logs.append(msg)\n",
        "    state[\"logs\"] = logs\n",
        "    return state\n",
        "\n",
        "\n",
        "def _ensure_single_symbol_df(df: pd.DataFrame, ticker: str) -> pd.DataFrame:\n",
        "    \"\"\"Normalize yfinance frames that sometimes come with MultiIndex columns.\"\"\"\n",
        "    if isinstance(df.columns, pd.MultiIndex):\n",
        "        try:\n",
        "            df = df.xs(ticker, axis=1, level=1)\n",
        "        except Exception:\n",
        "            try:\n",
        "                df = df.droplevel(1, axis=1)\n",
        "            except Exception:\n",
        "                pass\n",
        "    return df\n",
        "\n",
        "\n",
        "def _is_recent_iso8601(ts_str: str, days: int) -> bool:\n",
        "    if not ts_str:\n",
        "        return True\n",
        "    try:\n",
        "        ts = datetime.fromisoformat(ts_str.replace(\"Z\",\"\"))\n",
        "        return (datetime.now(timezone.utc) - ts) <= timedelta(days=days)\n",
        "    except Exception:\n",
        "        return True\n",
        "\n",
        "def _clean_text(text: str, max_len: int) -> str:\n",
        "  text = re.sub(r'\\s+', ' ', text.strip())  # Normalize whitespace (uses existing `import re`)\n",
        "  return text[:max_len] + \"...\" if len(text) > max_len else text\n"
      ]
    },
    {
      "cell_type": "markdown",
      "metadata": {},
      "source": [
        "## **INDICATORS HELPERS**"
      ]
    },
    {
      "cell_type": "markdown",
      "metadata": {},
      "source": [
        "Takes a pandas DataFrame with historical share price data (OHLCV: Open, High, Low, Close, Volume) and calculates a series of standard technical indicators used in financial analysis.\n",
        "\n",
        "- asof: Date of the last valid data in the DataFrame, formatted as ‘YYYY-MM-DD’.\n",
        "- close: Adjusted closing price for the last available day.\n",
        "- sma_10: Simple average of closing prices over the last 10 days.\n",
        "- sma_20: Simple average of closing prices over the last 20 days.\n",
        "- rsi_14: It measures the speed and change in price movements to detect overbought (>70) or oversold (<30) conditions.\n",
        "- macd: Difference between EMA_12 and EMA_26, measuring momentum.\n",
        "- macd_signal: 9-period EMA of the MACD.\n",
        "- macd_hist: Difference between MACD and its signal.\n",
        "- ret_1d: Percentage change in the closing price on the last day.\n",
        "- ret_5d: Percentage change in closing price over the last 5 days."
      ]
    },
    {
      "cell_type": "code",
      "execution_count": null,
      "metadata": {},
      "outputs": [],
      "source": [
        "def compute_indicators_df(df: pd.DataFrame) -> Dict[str, Any]:\n",
        "    df = _ensure_single_symbol_df(df, \"_\")\n",
        "    close = df[\"Close\"].astype(float)\n",
        "\n",
        "    # SMA\n",
        "    df[\"sma_10\"] = close.rolling(10).mean()\n",
        "    df[\"sma_20\"] = close.rolling(20).mean()\n",
        "\n",
        "    # RSI\n",
        "    delta = close.diff()\n",
        "    gain = delta.clip(lower=0)\n",
        "    loss = (-delta).clip(lower=0)\n",
        "    avg_gain = gain.rolling(14).mean()\n",
        "    avg_loss = loss.rolling(14).mean()\n",
        "    rs = avg_gain / (avg_loss.replace(0, np.nan))\n",
        "    df[\"rsi_14\"] = 100 - (100 / (1 + rs))\n",
        "\n",
        "    # MACD\n",
        "    ema12 = close.ewm(span=12, adjust=False).mean()\n",
        "    ema26 = close.ewm(span=26, adjust=False).mean()\n",
        "    macd = ema12 - ema26\n",
        "    signal = macd.ewm(span=9, adjust=False).mean()\n",
        "    hist = macd - signal\n",
        "    df[\"macd\"] = macd\n",
        "    df[\"macd_signal\"] = signal\n",
        "    df[\"macd_hist\"] = hist\n",
        "\n",
        "    # simple returns\n",
        "    df[\"ret_1d\"] = close.pct_change(1)\n",
        "    df[\"ret_5d\"] = close.pct_change(5)\n",
        "\n",
        "    last = df.dropna().iloc[-1]\n",
        "\n",
        "    def _scalar(x):\n",
        "        try:\n",
        "            return float(x.iloc[0])\n",
        "        except Exception:\n",
        "            return float(x)\n",
        "\n",
        "    return {\n",
        "        \"asof\": last.name.strftime(\"%Y-%m-%d\"),\n",
        "        \"close\": _scalar(last[\"Close\"]),\n",
        "        \"sma_10\": _scalar(last[\"sma_10\"]),\n",
        "        \"sma_20\": _scalar(last[\"sma_20\"]),\n",
        "        \"rsi_14\": _scalar(last[\"rsi_14\"]),\n",
        "        \"macd\": _scalar(last[\"macd\"]),\n",
        "        \"macd_signal\": _scalar(last[\"macd_signal\"]),\n",
        "        \"macd_hist\": _scalar(last[\"macd_hist\"]),\n",
        "        \"ret_1d\": _scalar(last[\"ret_1d\"]),\n",
        "        \"ret_5d\": _scalar(last[\"ret_5d\"]),\n",
        "    }"
      ]
    },
    {
      "cell_type": "markdown",
      "metadata": {},
      "source": [
        "Compose Indicator Queries generate a list of customised, indicator-aware search queries to find relevant news about a specific action.\n",
        "\n",
        "Based topics:\n",
        "- Earnings guidance.\n",
        "- Product launches.\n",
        "- Regulatory investigations, fines, or lawsuits.\n",
        "- Acquisitions, mergers, or divestitures.\n",
        "- Buybacks, dividends, or capital returns.\n",
        "- Analyst updates.\n",
        "\n",
        "Conditional based on indicators:\n",
        "- RSI_14. If > 14, consider concerns about overbuying and profit-taking. If < 30, consider oversold rebound and positive catalysts.\n",
        "- MACD_hist. If > 0, estimate positive momentum, exceeding estimates. If < 0, consider estimation failures, cuts and headwinds.\n",
        "- Recent returns. If ret_5d > 0.03, positive 5-day return, consider why the stock rose last week. If ret_1d < -0.02 (significant daily decline), add the query asking about causes of downgrades or lawsuits."
      ]
    },
    {
      "cell_type": "code",
      "execution_count": null,
      "metadata": {},
      "outputs": [],
      "source": [
        "def compose_indicator_queries (ticker: str, ind: Dict[str, Any], days:int) -> List[str]:\n",
        "  t = ticker.upper().strip()\n",
        "  rsi = float(ind.get(\"rsi_14\", 50) or 50)\n",
        "  macd_hist = float(ind.get(\"macd_hist\", 50) or 50)\n",
        "  ret_1d = float(ind.get(\"ret_1d\", 50) or 50)\n",
        "  ret_5d = float(ind.get(\"ret_5d\", 50) or 50)\n",
        "\n",
        "  base_topics = [\n",
        "      f\"{t} earnings guidance last {days} days\",\n",
        "      f\"{t} press release product launch last {days} days\",\n",
        "      f\"{t} regulatory investigation fine lawsuit last {days} days\",\n",
        "      f\"{t} acquisition merger divestidure last {days} days\",\n",
        "      f\"{t} buyback dividend capital return last {days} days\",\n",
        "      f\"{t} analyst upgrade downgrade last {days} days\",\n",
        "  ]\n",
        "\n",
        "  # Settings for rsi.\n",
        "  if rsi >= 70:\n",
        "    base_topics += [f\"{t} overbought profit taking valuation concerns last {days} days\"]\n",
        "  elif rsi <= 30:\n",
        "    base_topics += [f\"{t} oversold rebound catalyst upgrade last {days} days\"]\n",
        "\n",
        "  # Settings for MACD\n",
        "  if macd_hist > 0:\n",
        "    base_topics += [f\"{t} momentum beat estimates guidance raise last {days} days\"]\n",
        "  elif macd_hist < 0:\n",
        "    base_topics += [f\"{t} miss estimates guidance cut headwinds last {days} days\"]\n",
        "\n",
        "  # Settings for ret\n",
        "  if ret_5d >= 0.03:\n",
        "    base_topics += [f\"{t} why stock up last week investor reaction last {days} days\"]\n",
        "  if ret_1d <= -0.02:\n",
        "    base_topics += [f\"{t} why stock down today downgrade lawsuit last {days} days\"]\n",
        "\n",
        "  seen = set()\n",
        "  queries = []\n",
        "  for q in base_topics:\n",
        "    if q not in seen:\n",
        "      seen.add(q)\n",
        "      queries.append(q)\n",
        "  return queries[:10]"
      ]
    },
    {
      "cell_type": "markdown",
      "metadata": {},
      "source": [
        "## **INDICATORS: AGENTS HELPERS**"
      ]
    },
    {
      "cell_type": "markdown",
      "metadata": {},
      "source": [
        "INTERNAL USE:\n",
        "- Class GraphState"
      ]
    },
    {
      "cell_type": "code",
      "execution_count": null,
      "metadata": {},
      "outputs": [],
      "source": [
        "class GraphState(TypedDict):\n",
        "    ticker: str\n",
        "    _prices: Optional[pd.DataFrame]          \n",
        "    indicators: Dict[str, Any]\n",
        "    news: List[Dict[str, str]]               \n",
        "    headlines: List[str]\n",
        "    financials: Dict[str, Any]\n",
        "    draft_md: str\n",
        "    report: str\n",
        "    logs: List[str]\n",
        "    _cfg: Dict[str, Any]"
      ]
    },
    {
      "cell_type": "code",
      "execution_count": null,
      "metadata": {},
      "outputs": [],
      "source": [
        "@tool(\"research_analyst\")\n",
        "def research_analyst(ticker: str, period: int):\n",
        "    \"\"\"1st - Research Analyst\"\"\"\n",
        "    \n",
        "    def validate_ticker(state: GraphState) -> GraphState:\n",
        "        t = (state[\"ticker\"] or \"\").upper().strip()\n",
        "        if not t:\n",
        "            raise ValueError(\"Empty ticker. Please provide a valid symbol (e.g., AAPL).\")\n",
        "        _log(state, f\"[validate_ticker] Ticker => {t}\")\n",
        "        state[\"ticker\"] = t\n",
        "        return state\n",
        "    \n",
        "    @retry(stop=stop_after_attempt(3), wait=wait_exponential(multiplier=1, min=1, max=8))\n",
        "    def _dl_prices(ticker: str, days: int) -> pd.DataFrame:\n",
        "        end = datetime.today()\n",
        "        start = end - timedelta(days=days)\n",
        "        df = yf.download(ticker, start=start, end=end, progress=False, auto_adjust=False)\n",
        "        if df is None or df.empty:\n",
        "            raise RuntimeError(\"Prices could not be downloaded.\")\n",
        "        return df\n",
        "\n",
        "    def load_prices(state: GraphState) -> GraphState:\n",
        "        cfg = state[\"_cfg\"]\n",
        "        t = state[\"ticker\"]\n",
        "        df = _dl_prices(t, days=cfg[\"PRICE_LOOKBACK_DAYS\"])\n",
        "        df = _ensure_single_symbol_df(df, t)\n",
        "        _log(state, f\"[load_prices] OHLCV={list(df.columns)} rows={len(df)}\")\n",
        "        state[\"_prices\"] = df\n",
        "        return state\n",
        "\n",
        "    def compute_indicators(state: GraphState) -> GraphState:\n",
        "        df = state.get(\"_prices\")\n",
        "        if df is None or df.empty:\n",
        "            raise RuntimeError(\"There are no prices in the state. Run “load_prices” first.\")\n",
        "        inds = compute_indicators_df(df)\n",
        "        _log(state, f\"[compute_indicators] keys={list(inds.keys())}\")\n",
        "        state[\"indicators\"] = inds\n",
        "        return state\n",
        "\n",
        "    @retry(stop=stop_after_attempt(3), wait=wait_exponential(multiplier=1, min=0.5, max=6))\n",
        "    def _tavily_run(query: str):\n",
        "        try:\n",
        "            return tavily_tool.run({\"query\": query})\n",
        "        except TypeError:\n",
        "            return tavily_tool.run(query)\n",
        "\n",
        "    def _search_news_tavily_indicator_aware(ticker: str, indicators: Dict[str, Any],\n",
        "                                            days: int, max_articles: int) -> List[NewsDoc]:\n",
        "        queries = compose_indicator_queries(ticker, indicators, days=days)\n",
        "        results, seen_urls = [], set()\n",
        "\n",
        "        for q in queries:\n",
        "            time.sleep(0.25)  # smooth rate-limit\n",
        "            items = _tavily_run(q) or []\n",
        "            for it in items:\n",
        "                url = it.get(\"url\") or it.get(\"source\") or \"\"\n",
        "                if not url or url in seen_urls:\n",
        "                    continue\n",
        "                title = it.get(\"title\") or (it.get(\"content\",\"\").split(\"\\n\",1)[0][:120] if it.get(\"content\") else \"\")\n",
        "                excerpt = it.get(\"content\") or it.get(\"snippet\") or \"\"\n",
        "                ts = it.get(\"published_date\") or it.get(\"date\") or \"\"\n",
        "\n",
        "                if _is_recent_iso8601(ts, days=days):\n",
        "                    results.append({\n",
        "                        \"title\": _clean_text(title, 200),\n",
        "                        \"url\": url,\n",
        "                        \"excerpt\": _clean_text(excerpt, 900),\n",
        "                        \"ts\": ts\n",
        "                    })\n",
        "                    seen_urls.add(url)\n",
        "            if len(seen_urls) >= max_articles:\n",
        "                break\n",
        "\n",
        "        # sort by date descending (no date at the end)\n",
        "        def _key(x):\n",
        "            ts = x.get(\"ts\",\"\")\n",
        "            try:\n",
        "                return datetime.fromisoformat(ts.replace(\"Z\",\"\"))\n",
        "            except Exception:\n",
        "                return datetime.min\n",
        "        results_sorted = sorted(results, key=_key, reverse=True)[:max_articles]\n",
        "\n",
        "        return [NewsDoc(title=r[\"title\"], url=r[\"url\"], excerpt=r[\"excerpt\"]) for r in results_sorted]\n",
        "\n",
        "    # --- NODE: news ---\n",
        "    def gather_news(state: GraphState) -> GraphState:\n",
        "        cfg = state[\"_cfg\"]\n",
        "        t = state[\"ticker\"]\n",
        "        ind = state.get(\"indicators\") or {}\n",
        "        news_docs = _search_news_tavily_indicator_aware(\n",
        "            t, ind, days=cfg[\"DAYS_NEWS\"], max_articles=cfg[\"MAX_NEWS\"]\n",
        "        )\n",
        "        headlines = [nd.title for nd in news_docs[:cfg[\"HEADLINES_TOPK\"]]]\n",
        "        _log(state, f\"[gather_news] found={len(news_docs)}\")\n",
        "        state[\"news\"] = [nd.model_dump() for nd in news_docs]\n",
        "        state[\"headlines\"] = headlines\n",
        "        return state\n",
        "\n",
        "    @retry(stop=stop_after_attempt(3), wait=wait_exponential(multiplier=1, min=1, max=8))\n",
        "    def _fetch_financials(ticker: str) -> Dict[str, Any]:\n",
        "        t = yf.Ticker(ticker)\n",
        "        info = {}\n",
        "        try:\n",
        "            info = t.get_info()\n",
        "        except Exception:\n",
        "            info = {}\n",
        "        fast = getattr(t, \"fast_info\", {}) or {}\n",
        "\n",
        "        def _get(*keys, default=None):\n",
        "            for k in keys:\n",
        "                if k in fast: return fast[k]\n",
        "                if k in info: return info[k]\n",
        "            return default\n",
        "\n",
        "        return {\n",
        "            \"symbol\": ticker,\n",
        "            \"longName\": info.get(\"longName\") or info.get(\"shortName\") or ticker,\n",
        "            \"currency\": _get(\"currency\"),\n",
        "            \"price\": float(_get(\"last_price\",\"lastPrice\",\"regularMarketPrice\", default=np.nan)),\n",
        "            \"market_cap\": _get(\"marketCap\"),\n",
        "            \"trailingPE\": _get(\"trailingPE\"),\n",
        "            \"forwardPE\": _get(\"forwardPE\"),\n",
        "            \"volume\": _get(\"last_volume\",\"volume\"),\n",
        "            \"52w_high\": _get(\"year_high\",\"fiftyTwoWeekHigh\"),\n",
        "            \"52w_low\": _get(\"year_low\",\"fiftyTwoWeekLow\"),\n",
        "            \"asof\": datetime.now(timezone.utc).isoformat() + \"Z\",\n",
        "        }\n",
        "\n",
        "    def get_financials(state: GraphState) -> GraphState:\n",
        "        t = state[\"ticker\"]\n",
        "        fin = _fetch_financials(t)\n",
        "        _log(state, f\"[get_financials] price={fin.get('price')} market_cap={fin.get('market_cap')}\")\n",
        "        state[\"financials\"] = fin\n",
        "        return state\n",
        "\n",
        "    def _format_news_bullets(news: List[Dict[str,str]], k: int) -> str:\n",
        "        items = news[:k] if news else []\n",
        "        lines = []\n",
        "        for it in items:\n",
        "            title = it.get(\"title\",\"\").strip()\n",
        "            url = it.get(\"url\",\"\").strip()\n",
        "            if title and url:\n",
        "                lines.append(f\"- {title} ({url})\")\n",
        "        return \"\\n\\n\".join(lines)\n",
        "\n",
        "    def draft_report(state: GraphState) -> GraphState:\n",
        "        cfg = state[\"_cfg\"]\n",
        "        t = state[\"ticker\"]\n",
        "        fin = state.get(\"financials\") or {}\n",
        "        news = state.get(\"news\") or []\n",
        "        inds = state.get(\"indicators\") or {}\n",
        "        news_section = _format_news_bullets(news, k=5)\n",
        "\n",
        "        prompt = ChatPromptTemplate.from_messages([\n",
        "            (\"system\",\n",
        "            \"You are a concise, factual financial analyst. Write in clear bullets when useful. \"\n",
        "            \"Cite sources in 'Recent Developments' as the provided URLs. Avoid fabricating data.\"),\n",
        "            (\"human\",\n",
        "            \"\"\"Create a report with EXACTLY these sections:\n",
        "\n",
        "    1) Executive Summary\n",
        "    2) Current Valuation\n",
        "    3) Recent Developments (3–5 bullets, include provided URLs)\n",
        "    4) Analyst Perspective\n",
        "\n",
        "    Ticker: {ticker}\n",
        "\n",
        "    Facts you MUST use:\n",
        "    - Financial snapshot: {financials}\n",
        "    - Indicators (context only, do not overfit): {indicators}\n",
        "    - Curated news (use for section 3):\n",
        "    {news_bullets}\n",
        "\n",
        "    Guidelines:\n",
        "    - Be specific and avoid hype.\n",
        "    - In 'Current Valuation', show price (with currency if known), market cap and P/E (trailing/forward when available).\n",
        "    - In 'Analyst Perspective', discuss upside/downside catalysts and risks.\n",
        "    \"\"\")\n",
        "        ])\n",
        "\n",
        "        msg = prompt.format_messages(\n",
        "            ticker=t,\n",
        "            financials=fin,\n",
        "            indicators=inds,\n",
        "            news_bullets=news_section\n",
        "        )\n",
        "        out = llm.invoke(msg).content\n",
        "        _log(state, \"[draft_report] completed\")\n",
        "        state[\"report\"] = out\n",
        "        return state\n"
      ]
    },
    {
      "cell_type": "code",
      "execution_count": null,
      "metadata": {},
      "outputs": [],
      "source": [
        "@tool(\"risk_analyst\")\n",
        "def risk_analyst (text: str) -> str:\n",
        "\n",
        "    def sentiment_analysis (text:str) -> str:\n",
        "        from transformers import AutoTokenizer, AutoModelForSequenceClassification\n",
        "        import torch\n",
        "\n",
        "        tokenizer = AutoTokenizer.from_pretrained(\"mrm8488/distilroberta-finetuned-financial-news-sentiment-analysis\")\n",
        "        model = AutoModelForSequenceClassification.from_pretrained(\"mrm8488/distilroberta-finetuned-financial-news-sentiment-analysis\")\n",
        "\n",
        "        inputs = tokenizer(text, return_tensors=\"pt\", truncation=True, padding=True, max_length=512)\n",
        "\n",
        "        outputs = model(**inputs)\n",
        "        predictions = torch.nn.functional.softmax(outputs.logits, dim=-1)\n",
        "        sentiment = torch.argmax(predictions, dim=1).item()\n",
        "\n",
        "        labels = {0: \"Negative\", 1: \"Neutral\", 2: \"Positive\"}\n",
        "        return f\"Sentiment: {labels[sentiment]}, Confidence: {predictions[0][sentiment].item():.2f}\"\n",
        "\n",
        "\n"
      ]
    },
    {
      "cell_type": "markdown",
      "metadata": {},
      "source": [
        "# **INVOKE AGENTS**"
      ]
    },
    {
      "cell_type": "code",
      "execution_count": null,
      "metadata": {},
      "outputs": [],
      "source": [
        "research_analyst_agent = create_agent(\n",
        "    llm,\n",
        "    [research_analyst],\n",
        "    \"\"\"\"\"\"\n",
        ")\n",
        "research_node = functools.partial(agent_node, agent=research_analyst_agent, name=\"ResearchAnalyst\")\n",
        "\n",
        "risk_analyst_agent = create_agent(\n",
        "    llm,\n",
        "    [risk_analyst],\n",
        "    \"\"\"\"\"\"\n",
        ")\n",
        "risk_node = functools.partial(agent_node, agent=risk_analyst_agent, name=\"RiskAnalyst\")\n",
        "\n",
        "cio = create_team_supervisor(\n",
        "    llm,\n",
        "    \"You are a supervisor tasked with managing a conversation between the\"\n",
        "    \" following workers:  {team_members}. Given the following user request,\"\n",
        "    \" respond with the worker to act next. Each worker will perform a\"\n",
        "    \" task and respond with their results and status. When finished,\"\n",
        "    \" respond with FINISH.\",\n",
        "    [\"ResearchAnalyst\",\"RiskAnalyst\"],\n",
        ")"
      ]
    },
    {
      "cell_type": "markdown",
      "metadata": {},
      "source": [
        "# **GRAPH**"
      ]
    },
    {
      "cell_type": "code",
      "execution_count": null,
      "metadata": {},
      "outputs": [],
      "source": [
        "# Create the Graph\n",
        "financial_graph = StateGraph(FinanceTeamState)\n",
        "financial_graph.add_note(\"ResearchAnalyst\", research_analyst)\n",
        "financial_graph.add_note(\"RiskAnalyst\", risk_analyst)\n",
        "financial_graph.add_note(\"cio\", cio)\n",
        "\n",
        "# Add the Edges\n",
        "financial_graph.add_edge(\"ResearchAnalyst\", \"cio\")\n",
        "financial_graph.add_edge(\"RiskAnalyst\", \"cio\")\n",
        "\n",
        "# Add the Edges where Routing Applies\n",
        "financial_graph.add_conditional_edges(\n",
        "    \"cio\",\n",
        "    lambda x: x[\"next\"],\n",
        "    {\n",
        "        \"ResearchAnalyst\": \"Research Analyst\",\n",
        "        \"RiskAnalyst\": \"RiskAnalyst\",\n",
        "        \"FINISH\": END,\n",
        "    }\n",
        ")\n",
        "financial_graph.add_edge(START, \"cio\")\n",
        "chain = financial_graph.compile()"
      ]
    },
    {
      "cell_type": "code",
      "execution_count": null,
      "metadata": {},
      "outputs": [],
      "source": [
        "def enter_chain(message: str, members: List[str]):\n",
        "    results = {\n",
        "        \"messages\": [HumanMessage(content=message)],\n",
        "        \"team_members\": \", \".join(members),\n",
        "    }\n",
        "    return results"
      ]
    },
    {
      "cell_type": "code",
      "execution_count": null,
      "metadata": {},
      "outputs": [],
      "source": [
        "financial_chain = (\n",
        "    functools.partial(enter_chain, members=financial_graph.nodes)\n",
        "    | financial_graph.compile()\n",
        ")"
      ]
    },
    {
      "cell_type": "markdown",
      "metadata": {
        "id": "xJ3RPibbwhEU"
      },
      "source": [
        "# APP"
      ]
    },
    {
      "cell_type": "code",
      "execution_count": null,
      "metadata": {
        "id": "EJZJmRU5CsVv"
      },
      "outputs": [],
      "source": [
        "@dataclass\n",
        "class Config:\n",
        "    DAYS_NEWS: int = 90           # \"last quarter\"\n",
        "    MAX_NEWS: int = 8\n",
        "    HEADLINES_TOPK: int = 5\n",
        "    PRICE_LOOKBACK_DAYS: int = 180\n",
        "\n",
        "def run_multiagent(ticker: str, cfg: Optional[Config] = None) -> GraphState:\n",
        "    cfg = cfg or Config()\n",
        "    app = build_graph()\n",
        "    init: GraphState = {\n",
        "        \"ticker\": ticker,\n",
        "        \"_prices\": None,\n",
        "        \"indicators\": {},\n",
        "        \"news\": [],\n",
        "        \"headlines\": [],\n",
        "        \"financials\": {},\n",
        "        \"report\": \"\",\n",
        "        \"logs\": [],\n",
        "        \"_cfg\": {\n",
        "            \"DAYS_NEWS\": cfg.DAYS_NEWS,\n",
        "            \"MAX_NEWS\": cfg.MAX_NEWS,\n",
        "            \"HEADLINES_TOPK\": cfg.HEADLINES_TOPK,\n",
        "            \"PRICE_LOOKBACK_DAYS\": cfg.PRICE_LOOKBACK_DAYS\n",
        "        },\n",
        "    }\n",
        "    final_state: GraphState = app.invoke(init)\n",
        "    return final_state"
      ]
    },
    {
      "cell_type": "markdown",
      "metadata": {
        "id": "3i5KHRog5Tif"
      },
      "source": [
        "# **USER**"
      ]
    },
    {
      "cell_type": "markdown",
      "metadata": {
        "id": "t7nYZxLCpcua"
      },
      "source": [
        "The user can set the following parameters:\n",
        "\n",
        "1. DAYS_NEWS: number of days with news.\n",
        "2. MAX_NEWS: a limit of reported news\n",
        "3. HEADLINES_TOPK: maximum number of items you intend to bring.\n",
        "4. PRICE_LOOKBACK_DAYS: number of days back that the system downloads historical prices"
      ]
    },
    {
      "cell_type": "code",
      "execution_count": 184,
      "metadata": {
        "id": "dVyrhKQ6Hnlv"
      },
      "outputs": [],
      "source": [
        "from rich.console import Console\n",
        "from rich.panel import Panel\n",
        "from rich.table import Table"
      ]
    },
    {
      "cell_type": "code",
      "execution_count": 185,
      "metadata": {
        "id": "X0PZHgwXH_Vk"
      },
      "outputs": [],
      "source": [
        "console = Console()"
      ]
    },
    {
      "cell_type": "code",
      "execution_count": 186,
      "metadata": {
        "colab": {
          "base_uri": "https://localhost:8080/",
          "height": 1000
        },
        "id": "RRLHr9d8yCIy",
        "outputId": "20c3ecc6-066a-4787-fc15-22f89bf8e481"
      },
      "outputs": [
        {
          "data": {
            "text/html": [
              "<pre style=\"white-space:pre;overflow-x:auto;line-height:normal;font-family:Menlo,'DejaVu Sans Mono',consolas,'Courier New',monospace\"><span style=\"color: #00ff00; text-decoration-color: #00ff00\">───────────────────────────────────────────── </span><span style=\"font-weight: bold\">Running agent for: XYL</span><span style=\"color: #00ff00; text-decoration-color: #00ff00\"> ──────────────────────────────────────────────</span>\n",
              "</pre>\n"
            ],
            "text/plain": [
              "\u001b[92m───────────────────────────────────────────── \u001b[0m\u001b[1mRunning agent for: XYL\u001b[0m\u001b[92m ──────────────────────────────────────────────\u001b[0m\n"
            ]
          },
          "metadata": {},
          "output_type": "display_data"
        },
        {
          "data": {
            "text/html": [
              "<pre style=\"white-space:pre;overflow-x:auto;line-height:normal;font-family:Menlo,'DejaVu Sans Mono',consolas,'Courier New',monospace\"><span style=\"color: #00ff00; text-decoration-color: #00ff00\">────────────────────────────────────────────────── </span><span style=\"color: #008000; text-decoration-color: #008000; font-weight: bold\">Final Report</span><span style=\"color: #00ff00; text-decoration-color: #00ff00\"> ───────────────────────────────────────────────────</span>\n",
              "</pre>\n"
            ],
            "text/plain": [
              "\u001b[92m────────────────────────────────────────────────── \u001b[0m\u001b[1;32mFinal Report\u001b[0m\u001b[92m ───────────────────────────────────────────────────\u001b[0m\n"
            ]
          },
          "metadata": {},
          "output_type": "display_data"
        },
        {
          "data": {
            "text/html": [
              "<pre style=\"white-space:pre;overflow-x:auto;line-height:normal;font-family:Menlo,'DejaVu Sans Mono',consolas,'Courier New',monospace\">╭─────────────────────────────────────────────────────────────────────────────────────────────────────────────────╮\n",
              "│ # Xylem Inc. (XYL) Financial Report                                                                             │\n",
              "│                                                                                                                 │\n",
              "│ ## 1) Executive Summary                                                                                         │\n",
              "│ Xylem Inc. (NYSE: XYL) is a leading global water technology company focused on developing innovative solutions  │\n",
              "│ for water and wastewater management. As of September 22, 2025, Xylem's stock is trading at approximately        │\n",
              "│ $143.54, reflecting a market capitalization of about $34.94 billion. The company operates in a sector that is   │\n",
              "│ increasingly critical due to global water scarcity and infrastructure needs.                                    │\n",
              "│                                                                                                                 │\n",
              "│ ## 2) Current Valuation                                                                                         │\n",
              "│ - **Price**: $143.54 USD                                                                                        │\n",
              "│ - **Market Cap**: $34.94 billion USD                                                                            │\n",
              "│ - **Trailing P/E**: 37.38                                                                                       │\n",
              "│ - **Forward P/E**: 30.22                                                                                        │\n",
              "│ - **52-Week High**: $145.33                                                                                     │\n",
              "│ - **52-Week Low**: $100.47                                                                                      │\n",
              "│ - **Volume**: 933,182 shares traded                                                                             │\n",
              "│                                                                                                                 │\n",
              "│ ## 3) Recent Developments                                                                                       │\n",
              "│ - Xylem is scheduled to report its earnings on October 30, 2025, as indicated by Zacks                          │\n",
              "│ (https://www.zacks.com/stock/research/XYL/earnings-calendar).                                                   │\n",
              "│ - Mn Services Vermogensbeheer B.V. has acquired $11.78 million worth of Xylem stock, suggesting institutional   │\n",
              "│ interest in the company                                                                                         │\n",
              "│ (https://www.marketbeat.com/instant-alerts/filing-xylem-inc-xyl-shares-bought-by-mn-services-vermogensbeheer-bv │\n",
              "│ -2025-09-20/).                                                                                                  │\n",
              "│ - The company has been actively updating its investors through press releases, highlighting ongoing projects    │\n",
              "│ and financial performance (https://xyleminc.gcs-web.com/news-events/news-releases).                             │\n",
              "│ - Detailed earnings estimates for Xylem indicate a positive outlook for the upcoming quarter                    │\n",
              "│ (https://www.zacks.com/stock/quote/XYL/detailed-earning-estimates).                                             │\n",
              "│ - MarketBeat provides insights into Xylem's earnings date and reports, reinforcing the company's transparency   │\n",
              "│ with investors (https://www.marketbeat.com/stocks/NYSE/XYL/earnings/).                                          │\n",
              "│                                                                                                                 │\n",
              "│ ## 4) Analyst Perspective                                                                                       │\n",
              "│ ### Upside Catalysts:                                                                                           │\n",
              "│ - **Growing Demand**: Increasing global focus on water conservation and management presents a significant       │\n",
              "│ growth opportunity for Xylem.                                                                                   │\n",
              "│ - **Innovative Solutions**: The company’s commitment to R&amp;D may lead to new product offerings that can capture  │\n",
              "│ market share.                                                                                                   │\n",
              "│ - **Institutional Investment**: Recent acquisitions by institutional investors may indicate confidence in       │\n",
              "│ Xylem's future performance.                                                                                     │\n",
              "│                                                                                                                 │\n",
              "│ ### Downside Risks:                                                                                             │\n",
              "│ - **Valuation Concerns**: With a trailing P/E of 37.38, the stock may be considered overvalued, particularly if │\n",
              "│ earnings growth does not meet expectations.                                                                     │\n",
              "│ - **Market Volatility**: Economic downturns or changes in regulatory environments could adversely affect the    │\n",
              "│ company's performance.                                                                                          │\n",
              "│ - **Competition**: The water technology sector is competitive, and Xylem must continuously innovate to maintain │\n",
              "│ its market position.                                                                                            │\n",
              "│                                                                                                                 │\n",
              "│ Overall, while Xylem presents a compelling investment opportunity due to its strategic positioning in a         │\n",
              "│ critical industry, potential investors should weigh the high valuation against the inherent risks in the        │\n",
              "│ market.                                                                                                         │\n",
              "╰─────────────────────────────────────────────────────────────────────────────────────────────────────────────────╯\n",
              "</pre>\n"
            ],
            "text/plain": [
              "╭─────────────────────────────────────────────────────────────────────────────────────────────────────────────────╮\n",
              "│ # Xylem Inc. (XYL) Financial Report                                                                             │\n",
              "│                                                                                                                 │\n",
              "│ ## 1) Executive Summary                                                                                         │\n",
              "│ Xylem Inc. (NYSE: XYL) is a leading global water technology company focused on developing innovative solutions  │\n",
              "│ for water and wastewater management. As of September 22, 2025, Xylem's stock is trading at approximately        │\n",
              "│ $143.54, reflecting a market capitalization of about $34.94 billion. The company operates in a sector that is   │\n",
              "│ increasingly critical due to global water scarcity and infrastructure needs.                                    │\n",
              "│                                                                                                                 │\n",
              "│ ## 2) Current Valuation                                                                                         │\n",
              "│ - **Price**: $143.54 USD                                                                                        │\n",
              "│ - **Market Cap**: $34.94 billion USD                                                                            │\n",
              "│ - **Trailing P/E**: 37.38                                                                                       │\n",
              "│ - **Forward P/E**: 30.22                                                                                        │\n",
              "│ - **52-Week High**: $145.33                                                                                     │\n",
              "│ - **52-Week Low**: $100.47                                                                                      │\n",
              "│ - **Volume**: 933,182 shares traded                                                                             │\n",
              "│                                                                                                                 │\n",
              "│ ## 3) Recent Developments                                                                                       │\n",
              "│ - Xylem is scheduled to report its earnings on October 30, 2025, as indicated by Zacks                          │\n",
              "│ (https://www.zacks.com/stock/research/XYL/earnings-calendar).                                                   │\n",
              "│ - Mn Services Vermogensbeheer B.V. has acquired $11.78 million worth of Xylem stock, suggesting institutional   │\n",
              "│ interest in the company                                                                                         │\n",
              "│ (https://www.marketbeat.com/instant-alerts/filing-xylem-inc-xyl-shares-bought-by-mn-services-vermogensbeheer-bv │\n",
              "│ -2025-09-20/).                                                                                                  │\n",
              "│ - The company has been actively updating its investors through press releases, highlighting ongoing projects    │\n",
              "│ and financial performance (https://xyleminc.gcs-web.com/news-events/news-releases).                             │\n",
              "│ - Detailed earnings estimates for Xylem indicate a positive outlook for the upcoming quarter                    │\n",
              "│ (https://www.zacks.com/stock/quote/XYL/detailed-earning-estimates).                                             │\n",
              "│ - MarketBeat provides insights into Xylem's earnings date and reports, reinforcing the company's transparency   │\n",
              "│ with investors (https://www.marketbeat.com/stocks/NYSE/XYL/earnings/).                                          │\n",
              "│                                                                                                                 │\n",
              "│ ## 4) Analyst Perspective                                                                                       │\n",
              "│ ### Upside Catalysts:                                                                                           │\n",
              "│ - **Growing Demand**: Increasing global focus on water conservation and management presents a significant       │\n",
              "│ growth opportunity for Xylem.                                                                                   │\n",
              "│ - **Innovative Solutions**: The company’s commitment to R&D may lead to new product offerings that can capture  │\n",
              "│ market share.                                                                                                   │\n",
              "│ - **Institutional Investment**: Recent acquisitions by institutional investors may indicate confidence in       │\n",
              "│ Xylem's future performance.                                                                                     │\n",
              "│                                                                                                                 │\n",
              "│ ### Downside Risks:                                                                                             │\n",
              "│ - **Valuation Concerns**: With a trailing P/E of 37.38, the stock may be considered overvalued, particularly if │\n",
              "│ earnings growth does not meet expectations.                                                                     │\n",
              "│ - **Market Volatility**: Economic downturns or changes in regulatory environments could adversely affect the    │\n",
              "│ company's performance.                                                                                          │\n",
              "│ - **Competition**: The water technology sector is competitive, and Xylem must continuously innovate to maintain │\n",
              "│ its market position.                                                                                            │\n",
              "│                                                                                                                 │\n",
              "│ Overall, while Xylem presents a compelling investment opportunity due to its strategic positioning in a         │\n",
              "│ critical industry, potential investors should weigh the high valuation against the inherent risks in the        │\n",
              "│ market.                                                                                                         │\n",
              "╰─────────────────────────────────────────────────────────────────────────────────────────────────────────────────╯\n"
            ]
          },
          "metadata": {},
          "output_type": "display_data"
        },
        {
          "data": {
            "text/html": [
              "<pre style=\"white-space:pre;overflow-x:auto;line-height:normal;font-family:Menlo,'DejaVu Sans Mono',consolas,'Courier New',monospace\"><span style=\"color: #00ff00; text-decoration-color: #00ff00\">───────────────────────────────────────────── </span><span style=\"font-weight: bold\">Running agent for: AAPL</span><span style=\"color: #00ff00; text-decoration-color: #00ff00\"> ─────────────────────────────────────────────</span>\n",
              "</pre>\n"
            ],
            "text/plain": [
              "\u001b[92m───────────────────────────────────────────── \u001b[0m\u001b[1mRunning agent for: AAPL\u001b[0m\u001b[92m ─────────────────────────────────────────────\u001b[0m\n"
            ]
          },
          "metadata": {},
          "output_type": "display_data"
        },
        {
          "data": {
            "text/html": [
              "<pre style=\"white-space:pre;overflow-x:auto;line-height:normal;font-family:Menlo,'DejaVu Sans Mono',consolas,'Courier New',monospace\"><span style=\"color: #00ff00; text-decoration-color: #00ff00\">────────────────────────────────────────────────── </span><span style=\"color: #008000; text-decoration-color: #008000; font-weight: bold\">Final Report</span><span style=\"color: #00ff00; text-decoration-color: #00ff00\"> ───────────────────────────────────────────────────</span>\n",
              "</pre>\n"
            ],
            "text/plain": [
              "\u001b[92m────────────────────────────────────────────────── \u001b[0m\u001b[1;32mFinal Report\u001b[0m\u001b[92m ───────────────────────────────────────────────────\u001b[0m\n"
            ]
          },
          "metadata": {},
          "output_type": "display_data"
        },
        {
          "data": {
            "text/html": [
              "<pre style=\"white-space:pre;overflow-x:auto;line-height:normal;font-family:Menlo,'DejaVu Sans Mono',consolas,'Courier New',monospace\">╭─────────────────────────────────────────────────────────────────────────────────────────────────────────────────╮\n",
              "│ # Apple Inc. (AAPL) Financial Report                                                                            │\n",
              "│                                                                                                                 │\n",
              "│ ## 1) Executive Summary                                                                                         │\n",
              "│ Apple Inc. (AAPL) continues to demonstrate strong market performance with a current price of $256.08 and a      │\n",
              "│ market capitalization of approximately $3.8 trillion. The company maintains a trailing P/E ratio of 38.92 and a │\n",
              "│ forward P/E of 30.82, indicating robust investor confidence despite high valuation metrics. Recent trends       │\n",
              "│ suggest a positive outlook, driven by strong revenue growth and product demand.                                 │\n",
              "│                                                                                                                 │\n",
              "│ ## 2) Current Valuation                                                                                         │\n",
              "│ - **Current Price**: $256.08 USD                                                                                │\n",
              "│ - **Market Capitalization**: $3.8 trillion USD                                                                  │\n",
              "│ - **Trailing P/E Ratio**: 38.92                                                                                 │\n",
              "│ - **Forward P/E Ratio**: 30.82                                                                                  │\n",
              "│ - **52-Week High**: $260.10                                                                                     │\n",
              "│ - **52-Week Low**: $169.21                                                                                      │\n",
              "│ - **Volume**: 101,865,199 shares                                                                                │\n",
              "│                                                                                                                 │\n",
              "│ ## 3) Recent Developments                                                                                       │\n",
              "│ - Analysts have provided a range of ratings and forecasts for AAPL, reflecting a generally positive sentiment   │\n",
              "│ towards the stock. [Source](https://finance.yahoo.com/quote/AAPL/analysis/)                                     │\n",
              "│ - Upcoming earnings dates are anticipated to be critical for assessing future performance and market reactions. │\n",
              "│ [Source](https://marketchameleon.com/Overview/AAPL/Earnings/Earnings-Dates/)                                    │\n",
              "│ - Visualizations of Apple's Q3 2025 revenue indicate strong growth across various segments, reinforcing         │\n",
              "│ investor confidence. [Source](https://www.visualcapitalist.com/visualizing-apples-q3-2025-revenue/)             │\n",
              "│ - Historical earnings reports show consistent revenue growth, which is expected to continue in upcoming         │\n",
              "│ quarters. [Source](https://www.tipranks.com/stocks/aapl/earnings)                                               │\n",
              "│ - Recent earnings dates and reports highlight the company's financial health and operational efficiency.        │\n",
              "│ [Source](https://www.investing.com/equities/apple-computer-inc-earnings)                                        │\n",
              "│                                                                                                                 │\n",
              "│ ## 4) Analyst Perspective                                                                                       │\n",
              "│ - **Upside Catalysts**:                                                                                         │\n",
              "│   - Continued innovation in product lines, particularly in wearables and services, could drive revenue growth.  │\n",
              "│   - Strong brand loyalty and ecosystem integration may enhance customer retention and attract new users.        │\n",
              "│   - Potential expansion into new markets and product categories could provide additional revenue streams.       │\n",
              "│                                                                                                                 │\n",
              "│ - **Downside Risks**:                                                                                           │\n",
              "│   - High valuation metrics may lead to increased volatility if earnings do not meet market expectations.        │\n",
              "│   - Supply chain disruptions or geopolitical tensions could impact production and sales.                        │\n",
              "│   - Competition in the tech sector remains fierce, with rivals potentially eroding market share.                │\n",
              "│                                                                                                                 │\n",
              "│ Overall, while AAPL presents a strong investment opportunity, potential investors should weigh the high         │\n",
              "│ valuation against the inherent risks in the current market environment.                                         │\n",
              "╰─────────────────────────────────────────────────────────────────────────────────────────────────────────────────╯\n",
              "</pre>\n"
            ],
            "text/plain": [
              "╭─────────────────────────────────────────────────────────────────────────────────────────────────────────────────╮\n",
              "│ # Apple Inc. (AAPL) Financial Report                                                                            │\n",
              "│                                                                                                                 │\n",
              "│ ## 1) Executive Summary                                                                                         │\n",
              "│ Apple Inc. (AAPL) continues to demonstrate strong market performance with a current price of $256.08 and a      │\n",
              "│ market capitalization of approximately $3.8 trillion. The company maintains a trailing P/E ratio of 38.92 and a │\n",
              "│ forward P/E of 30.82, indicating robust investor confidence despite high valuation metrics. Recent trends       │\n",
              "│ suggest a positive outlook, driven by strong revenue growth and product demand.                                 │\n",
              "│                                                                                                                 │\n",
              "│ ## 2) Current Valuation                                                                                         │\n",
              "│ - **Current Price**: $256.08 USD                                                                                │\n",
              "│ - **Market Capitalization**: $3.8 trillion USD                                                                  │\n",
              "│ - **Trailing P/E Ratio**: 38.92                                                                                 │\n",
              "│ - **Forward P/E Ratio**: 30.82                                                                                  │\n",
              "│ - **52-Week High**: $260.10                                                                                     │\n",
              "│ - **52-Week Low**: $169.21                                                                                      │\n",
              "│ - **Volume**: 101,865,199 shares                                                                                │\n",
              "│                                                                                                                 │\n",
              "│ ## 3) Recent Developments                                                                                       │\n",
              "│ - Analysts have provided a range of ratings and forecasts for AAPL, reflecting a generally positive sentiment   │\n",
              "│ towards the stock. [Source](https://finance.yahoo.com/quote/AAPL/analysis/)                                     │\n",
              "│ - Upcoming earnings dates are anticipated to be critical for assessing future performance and market reactions. │\n",
              "│ [Source](https://marketchameleon.com/Overview/AAPL/Earnings/Earnings-Dates/)                                    │\n",
              "│ - Visualizations of Apple's Q3 2025 revenue indicate strong growth across various segments, reinforcing         │\n",
              "│ investor confidence. [Source](https://www.visualcapitalist.com/visualizing-apples-q3-2025-revenue/)             │\n",
              "│ - Historical earnings reports show consistent revenue growth, which is expected to continue in upcoming         │\n",
              "│ quarters. [Source](https://www.tipranks.com/stocks/aapl/earnings)                                               │\n",
              "│ - Recent earnings dates and reports highlight the company's financial health and operational efficiency.        │\n",
              "│ [Source](https://www.investing.com/equities/apple-computer-inc-earnings)                                        │\n",
              "│                                                                                                                 │\n",
              "│ ## 4) Analyst Perspective                                                                                       │\n",
              "│ - **Upside Catalysts**:                                                                                         │\n",
              "│   - Continued innovation in product lines, particularly in wearables and services, could drive revenue growth.  │\n",
              "│   - Strong brand loyalty and ecosystem integration may enhance customer retention and attract new users.        │\n",
              "│   - Potential expansion into new markets and product categories could provide additional revenue streams.       │\n",
              "│                                                                                                                 │\n",
              "│ - **Downside Risks**:                                                                                           │\n",
              "│   - High valuation metrics may lead to increased volatility if earnings do not meet market expectations.        │\n",
              "│   - Supply chain disruptions or geopolitical tensions could impact production and sales.                        │\n",
              "│   - Competition in the tech sector remains fierce, with rivals potentially eroding market share.                │\n",
              "│                                                                                                                 │\n",
              "│ Overall, while AAPL presents a strong investment opportunity, potential investors should weigh the high         │\n",
              "│ valuation against the inherent risks in the current market environment.                                         │\n",
              "╰─────────────────────────────────────────────────────────────────────────────────────────────────────────────────╯\n"
            ]
          },
          "metadata": {},
          "output_type": "display_data"
        },
        {
          "data": {
            "text/html": [
              "<pre style=\"white-space:pre;overflow-x:auto;line-height:normal;font-family:Menlo,'DejaVu Sans Mono',consolas,'Courier New',monospace\"><span style=\"color: #00ff00; text-decoration-color: #00ff00\">───────────────────────────────────────────── </span><span style=\"font-weight: bold\">Running agent for: MSFT</span><span style=\"color: #00ff00; text-decoration-color: #00ff00\"> ─────────────────────────────────────────────</span>\n",
              "</pre>\n"
            ],
            "text/plain": [
              "\u001b[92m───────────────────────────────────────────── \u001b[0m\u001b[1mRunning agent for: MSFT\u001b[0m\u001b[92m ─────────────────────────────────────────────\u001b[0m\n"
            ]
          },
          "metadata": {},
          "output_type": "display_data"
        },
        {
          "data": {
            "text/html": [
              "<pre style=\"white-space:pre;overflow-x:auto;line-height:normal;font-family:Menlo,'DejaVu Sans Mono',consolas,'Courier New',monospace\"><span style=\"color: #00ff00; text-decoration-color: #00ff00\">────────────────────────────────────────────────── </span><span style=\"color: #008000; text-decoration-color: #008000; font-weight: bold\">Final Report</span><span style=\"color: #00ff00; text-decoration-color: #00ff00\"> ───────────────────────────────────────────────────</span>\n",
              "</pre>\n"
            ],
            "text/plain": [
              "\u001b[92m────────────────────────────────────────────────── \u001b[0m\u001b[1;32mFinal Report\u001b[0m\u001b[92m ───────────────────────────────────────────────────\u001b[0m\n"
            ]
          },
          "metadata": {},
          "output_type": "display_data"
        },
        {
          "data": {
            "text/html": [
              "<pre style=\"white-space:pre;overflow-x:auto;line-height:normal;font-family:Menlo,'DejaVu Sans Mono',consolas,'Courier New',monospace\">╭─────────────────────────────────────────────────────────────────────────────────────────────────────────────────╮\n",
              "│ # Microsoft Corporation (MSFT) Financial Report                                                                 │\n",
              "│                                                                                                                 │\n",
              "│ ## 1) Executive Summary                                                                                         │\n",
              "│ Microsoft Corporation (MSFT) is a leading technology company known for its software products, cloud services,   │\n",
              "│ and hardware. As of September 22, 2025, MSFT is trading at approximately $514.45, with a market capitalization  │\n",
              "│ of about $3.82 trillion. The company has shown resilience in its financial performance, supported by strong     │\n",
              "│ demand for its cloud services and software solutions.                                                           │\n",
              "│                                                                                                                 │\n",
              "│ ## 2) Current Valuation                                                                                         │\n",
              "│ - **Price:** $514.45 USD                                                                                        │\n",
              "│ - **Market Capitalization:** $3.82 trillion                                                                     │\n",
              "│ - **Trailing P/E Ratio:** 37.77                                                                                 │\n",
              "│ - **Forward P/E Ratio:** 34.41                                                                                  │\n",
              "│ - **52-Week High:** $555.45                                                                                     │\n",
              "│ - **52-Week Low:** $344.79                                                                                      │\n",
              "│ - **Volume:** 19,828,005 shares                                                                                 │\n",
              "│                                                                                                                 │\n",
              "│ ## 3) Recent Developments                                                                                       │\n",
              "│ - Microsoft is scheduled to report its FY25 Q4 earnings, with expectations of continued growth in cloud         │\n",
              "│ services and software sales. [MarketBeat](https://www.marketbeat.com/stocks/NASDAQ/MSFT/earnings/)              │\n",
              "│ - The company has released a press statement regarding its FY25 Q4 earnings, highlighting key performance       │\n",
              "│ metrics and future outlook. [Microsoft Investor                                                                 │\n",
              "│ Relations](https://www.microsoft.com/en-us/investor/earnings/fy-2025-q4/press-release-webcast)                  │\n",
              "│ - Upcoming earnings dates for MSFT have been confirmed, indicating a consistent schedule for financial          │\n",
              "│ reporting. [Market Chameleon](https://marketchameleon.com/Overview/MSFT/Earnings/Earnings-Dates/)               │\n",
              "│ - Analysts are closely monitoring MSFT's earnings report date, which is anticipated to provide insights into    │\n",
              "│ the company's performance amid a competitive market.                                                            │\n",
              "│ [NASDAQ](https://www.nasdaq.com/market-activity/stocks/msft/earnings)                                           │\n",
              "│ - Recent earnings dates and reports have shown a trend of strong revenue growth, particularly in the cloud      │\n",
              "│ computing segment. [Investing.com](https://www.investing.com/equities/microsoft-corp-earnings)                  │\n",
              "│                                                                                                                 │\n",
              "│ ## 4) Analyst Perspective                                                                                       │\n",
              "│ - **Upside Catalysts:**                                                                                         │\n",
              "│   - Continued growth in cloud services (Azure) is expected to drive revenue, as businesses increasingly migrate │\n",
              "│ to cloud solutions.                                                                                             │\n",
              "│   - Strong demand for Microsoft 365 and other software products may enhance recurring revenue streams.          │\n",
              "│   - Potential expansion into new markets and technologies, such as AI and gaming, could provide additional      │\n",
              "│ growth avenues.                                                                                                 │\n",
              "│                                                                                                                 │\n",
              "│ - **Downside Risks:**                                                                                           │\n",
              "│   - Increased competition from other tech giants in cloud computing and software could pressure margins and     │\n",
              "│ market share.                                                                                                   │\n",
              "│   - Economic downturns or reduced IT spending by businesses may negatively impact revenue growth.               │\n",
              "│   - Regulatory scrutiny and potential antitrust actions could pose risks to operational flexibility and growth  │\n",
              "│ strategies.                                                                                                     │\n",
              "│                                                                                                                 │\n",
              "│ Overall, while MSFT presents a strong investment opportunity due to its robust market position and growth       │\n",
              "│ potential, investors should remain cautious of external market pressures and competitive dynamics.              │\n",
              "╰─────────────────────────────────────────────────────────────────────────────────────────────────────────────────╯\n",
              "</pre>\n"
            ],
            "text/plain": [
              "╭─────────────────────────────────────────────────────────────────────────────────────────────────────────────────╮\n",
              "│ # Microsoft Corporation (MSFT) Financial Report                                                                 │\n",
              "│                                                                                                                 │\n",
              "│ ## 1) Executive Summary                                                                                         │\n",
              "│ Microsoft Corporation (MSFT) is a leading technology company known for its software products, cloud services,   │\n",
              "│ and hardware. As of September 22, 2025, MSFT is trading at approximately $514.45, with a market capitalization  │\n",
              "│ of about $3.82 trillion. The company has shown resilience in its financial performance, supported by strong     │\n",
              "│ demand for its cloud services and software solutions.                                                           │\n",
              "│                                                                                                                 │\n",
              "│ ## 2) Current Valuation                                                                                         │\n",
              "│ - **Price:** $514.45 USD                                                                                        │\n",
              "│ - **Market Capitalization:** $3.82 trillion                                                                     │\n",
              "│ - **Trailing P/E Ratio:** 37.77                                                                                 │\n",
              "│ - **Forward P/E Ratio:** 34.41                                                                                  │\n",
              "│ - **52-Week High:** $555.45                                                                                     │\n",
              "│ - **52-Week Low:** $344.79                                                                                      │\n",
              "│ - **Volume:** 19,828,005 shares                                                                                 │\n",
              "│                                                                                                                 │\n",
              "│ ## 3) Recent Developments                                                                                       │\n",
              "│ - Microsoft is scheduled to report its FY25 Q4 earnings, with expectations of continued growth in cloud         │\n",
              "│ services and software sales. [MarketBeat](https://www.marketbeat.com/stocks/NASDAQ/MSFT/earnings/)              │\n",
              "│ - The company has released a press statement regarding its FY25 Q4 earnings, highlighting key performance       │\n",
              "│ metrics and future outlook. [Microsoft Investor                                                                 │\n",
              "│ Relations](https://www.microsoft.com/en-us/investor/earnings/fy-2025-q4/press-release-webcast)                  │\n",
              "│ - Upcoming earnings dates for MSFT have been confirmed, indicating a consistent schedule for financial          │\n",
              "│ reporting. [Market Chameleon](https://marketchameleon.com/Overview/MSFT/Earnings/Earnings-Dates/)               │\n",
              "│ - Analysts are closely monitoring MSFT's earnings report date, which is anticipated to provide insights into    │\n",
              "│ the company's performance amid a competitive market.                                                            │\n",
              "│ [NASDAQ](https://www.nasdaq.com/market-activity/stocks/msft/earnings)                                           │\n",
              "│ - Recent earnings dates and reports have shown a trend of strong revenue growth, particularly in the cloud      │\n",
              "│ computing segment. [Investing.com](https://www.investing.com/equities/microsoft-corp-earnings)                  │\n",
              "│                                                                                                                 │\n",
              "│ ## 4) Analyst Perspective                                                                                       │\n",
              "│ - **Upside Catalysts:**                                                                                         │\n",
              "│   - Continued growth in cloud services (Azure) is expected to drive revenue, as businesses increasingly migrate │\n",
              "│ to cloud solutions.                                                                                             │\n",
              "│   - Strong demand for Microsoft 365 and other software products may enhance recurring revenue streams.          │\n",
              "│   - Potential expansion into new markets and technologies, such as AI and gaming, could provide additional      │\n",
              "│ growth avenues.                                                                                                 │\n",
              "│                                                                                                                 │\n",
              "│ - **Downside Risks:**                                                                                           │\n",
              "│   - Increased competition from other tech giants in cloud computing and software could pressure margins and     │\n",
              "│ market share.                                                                                                   │\n",
              "│   - Economic downturns or reduced IT spending by businesses may negatively impact revenue growth.               │\n",
              "│   - Regulatory scrutiny and potential antitrust actions could pose risks to operational flexibility and growth  │\n",
              "│ strategies.                                                                                                     │\n",
              "│                                                                                                                 │\n",
              "│ Overall, while MSFT presents a strong investment opportunity due to its robust market position and growth       │\n",
              "│ potential, investors should remain cautious of external market pressures and competitive dynamics.              │\n",
              "╰─────────────────────────────────────────────────────────────────────────────────────────────────────────────────╯\n"
            ]
          },
          "metadata": {},
          "output_type": "display_data"
        },
        {
          "data": {
            "text/html": [
              "<pre style=\"white-space:pre;overflow-x:auto;line-height:normal;font-family:Menlo,'DejaVu Sans Mono',consolas,'Courier New',monospace\"><span style=\"color: #00ff00; text-decoration-color: #00ff00\">──────────────────────────────────────────── </span><span style=\"font-weight: bold\">Running agent for: GOOGL</span><span style=\"color: #00ff00; text-decoration-color: #00ff00\"> ─────────────────────────────────────────────</span>\n",
              "</pre>\n"
            ],
            "text/plain": [
              "\u001b[92m──────────────────────────────────────────── \u001b[0m\u001b[1mRunning agent for: GOOGL\u001b[0m\u001b[92m ─────────────────────────────────────────────\u001b[0m\n"
            ]
          },
          "metadata": {},
          "output_type": "display_data"
        },
        {
          "data": {
            "text/html": [
              "<pre style=\"white-space:pre;overflow-x:auto;line-height:normal;font-family:Menlo,'DejaVu Sans Mono',consolas,'Courier New',monospace\"><span style=\"color: #00ff00; text-decoration-color: #00ff00\">────────────────────────────────────────────────── </span><span style=\"color: #008000; text-decoration-color: #008000; font-weight: bold\">Final Report</span><span style=\"color: #00ff00; text-decoration-color: #00ff00\"> ───────────────────────────────────────────────────</span>\n",
              "</pre>\n"
            ],
            "text/plain": [
              "\u001b[92m────────────────────────────────────────────────── \u001b[0m\u001b[1;32mFinal Report\u001b[0m\u001b[92m ───────────────────────────────────────────────────\u001b[0m\n"
            ]
          },
          "metadata": {},
          "output_type": "display_data"
        },
        {
          "data": {
            "text/html": [
              "<pre style=\"white-space:pre;overflow-x:auto;line-height:normal;font-family:Menlo,'DejaVu Sans Mono',consolas,'Courier New',monospace\">╭─────────────────────────────────────────────────────────────────────────────────────────────────────────────────╮\n",
              "│ # Alphabet Inc. (GOOGL) Financial Report                                                                        │\n",
              "│                                                                                                                 │\n",
              "│ ## 1) Executive Summary                                                                                         │\n",
              "│ Alphabet Inc. (GOOGL) is a leading technology company primarily known for its search engine, digital            │\n",
              "│ advertising, and cloud computing services. As of September 22, 2025, GOOGL's stock price is $252.53, reflecting │\n",
              "│ a robust market capitalization of approximately $3.02 trillion. The company is positioned for growth, driven by │\n",
              "│ advancements in cloud computing and artificial intelligence.                                                    │\n",
              "│                                                                                                                 │\n",
              "│ ## 2) Current Valuation                                                                                         │\n",
              "│ - **Price**: $252.53 USD                                                                                        │\n",
              "│ - **Market Capitalization**: $3.02 trillion                                                                     │\n",
              "│ - **Trailing P/E Ratio**: 26.95                                                                                 │\n",
              "│ - **Forward P/E Ratio**: 28.18                                                                                  │\n",
              "│ - **Volume**: 31,976,483 shares                                                                                 │\n",
              "│ - **52-Week High**: $256.00                                                                                     │\n",
              "│ - **52-Week Low**: $140.53                                                                                      │\n",
              "│                                                                                                                 │\n",
              "│ ## 3) Recent Developments                                                                                       │\n",
              "│ - Analysts are optimistic about GOOGL's growth potential, particularly in cloud services and AI, as highlighted │\n",
              "│ in the earnings preview (source:                                                                                │\n",
              "│ [MarketPulse](https://www.marketpulse.com/markets/alphabet-googl-earnings-preview-cloud-and-ai-drive-growth/)). │\n",
              "│ - Upcoming earnings reports are anticipated to provide insights into the company's performance and strategic    │\n",
              "│ direction (source: [MarketBeat](https://www.marketbeat.com/stocks/NASDAQ/GOOGL/earnings/)).                     │\n",
              "│ - Analyst ratings indicate a generally positive outlook for GOOGL, with many expecting continued revenue growth │\n",
              "│ (source: [Yahoo Finance - GOOGL](https://finance.yahoo.com/quote/GOOGL/analysis/)).                             │\n",
              "│ - The stock has shown strong momentum, with a recent RSI of 89.17 indicating overbought conditions (contextual  │\n",
              "│ data).                                                                                                          │\n",
              "│ - The MACD indicator suggests bullish momentum, with a recent histogram value of 0.99 (contextual data).        │\n",
              "│                                                                                                                 │\n",
              "│ ## 4) Analyst Perspective                                                                                       │\n",
              "│ - **Upside Catalysts**:                                                                                         │\n",
              "│   - Continued growth in cloud computing and AI services could significantly enhance revenue streams.            │\n",
              "│   - Positive analyst sentiment and ratings may drive investor confidence and stock price appreciation.          │\n",
              "│                                                                                                                 │\n",
              "│ - **Downside Risks**:                                                                                           │\n",
              "│   - Regulatory scrutiny and potential antitrust actions could impact operational flexibility and profitability. │\n",
              "│   - Market volatility and economic downturns could adversely affect advertising revenues, which are a           │\n",
              "│ significant portion of GOOGL's income.                                                                          │\n",
              "│                                                                                                                 │\n",
              "│ Overall, while GOOGL presents a strong growth narrative, investors should remain cautious of external risks     │\n",
              "│ that could impact its performance.                                                                              │\n",
              "╰─────────────────────────────────────────────────────────────────────────────────────────────────────────────────╯\n",
              "</pre>\n"
            ],
            "text/plain": [
              "╭─────────────────────────────────────────────────────────────────────────────────────────────────────────────────╮\n",
              "│ # Alphabet Inc. (GOOGL) Financial Report                                                                        │\n",
              "│                                                                                                                 │\n",
              "│ ## 1) Executive Summary                                                                                         │\n",
              "│ Alphabet Inc. (GOOGL) is a leading technology company primarily known for its search engine, digital            │\n",
              "│ advertising, and cloud computing services. As of September 22, 2025, GOOGL's stock price is $252.53, reflecting │\n",
              "│ a robust market capitalization of approximately $3.02 trillion. The company is positioned for growth, driven by │\n",
              "│ advancements in cloud computing and artificial intelligence.                                                    │\n",
              "│                                                                                                                 │\n",
              "│ ## 2) Current Valuation                                                                                         │\n",
              "│ - **Price**: $252.53 USD                                                                                        │\n",
              "│ - **Market Capitalization**: $3.02 trillion                                                                     │\n",
              "│ - **Trailing P/E Ratio**: 26.95                                                                                 │\n",
              "│ - **Forward P/E Ratio**: 28.18                                                                                  │\n",
              "│ - **Volume**: 31,976,483 shares                                                                                 │\n",
              "│ - **52-Week High**: $256.00                                                                                     │\n",
              "│ - **52-Week Low**: $140.53                                                                                      │\n",
              "│                                                                                                                 │\n",
              "│ ## 3) Recent Developments                                                                                       │\n",
              "│ - Analysts are optimistic about GOOGL's growth potential, particularly in cloud services and AI, as highlighted │\n",
              "│ in the earnings preview (source:                                                                                │\n",
              "│ [MarketPulse](https://www.marketpulse.com/markets/alphabet-googl-earnings-preview-cloud-and-ai-drive-growth/)). │\n",
              "│ - Upcoming earnings reports are anticipated to provide insights into the company's performance and strategic    │\n",
              "│ direction (source: [MarketBeat](https://www.marketbeat.com/stocks/NASDAQ/GOOGL/earnings/)).                     │\n",
              "│ - Analyst ratings indicate a generally positive outlook for GOOGL, with many expecting continued revenue growth │\n",
              "│ (source: [Yahoo Finance - GOOGL](https://finance.yahoo.com/quote/GOOGL/analysis/)).                             │\n",
              "│ - The stock has shown strong momentum, with a recent RSI of 89.17 indicating overbought conditions (contextual  │\n",
              "│ data).                                                                                                          │\n",
              "│ - The MACD indicator suggests bullish momentum, with a recent histogram value of 0.99 (contextual data).        │\n",
              "│                                                                                                                 │\n",
              "│ ## 4) Analyst Perspective                                                                                       │\n",
              "│ - **Upside Catalysts**:                                                                                         │\n",
              "│   - Continued growth in cloud computing and AI services could significantly enhance revenue streams.            │\n",
              "│   - Positive analyst sentiment and ratings may drive investor confidence and stock price appreciation.          │\n",
              "│                                                                                                                 │\n",
              "│ - **Downside Risks**:                                                                                           │\n",
              "│   - Regulatory scrutiny and potential antitrust actions could impact operational flexibility and profitability. │\n",
              "│   - Market volatility and economic downturns could adversely affect advertising revenues, which are a           │\n",
              "│ significant portion of GOOGL's income.                                                                          │\n",
              "│                                                                                                                 │\n",
              "│ Overall, while GOOGL presents a strong growth narrative, investors should remain cautious of external risks     │\n",
              "│ that could impact its performance.                                                                              │\n",
              "╰─────────────────────────────────────────────────────────────────────────────────────────────────────────────────╯\n"
            ]
          },
          "metadata": {},
          "output_type": "display_data"
        }
      ],
      "source": [
        "# =======================\n",
        "# EXECUTION CELL (robust)\n",
        "# =======================\n",
        "from pprint import pprint\n",
        "\n",
        "# --- Config by default (could be adapted to your interests) ---\n",
        "try:\n",
        "    # Usa la clase Config definida anteriormente\n",
        "    cfg = Config(\n",
        "        DAYS_NEWS=30,\n",
        "        MAX_NEWS=8,\n",
        "        HEADLINES_TOPK=5,\n",
        "        PRICE_LOOKBACK_DAYS=180\n",
        "    )\n",
        "except NameError:\n",
        "    # Fallback if there's no configuration.\n",
        "    cfg = type(\"Config\", (), {\n",
        "        \"DAYS_NEWS\": 30,\n",
        "        \"MAX_NEWS\": 8,\n",
        "        \"HEADLINES_TOPK\": 5,\n",
        "        \"PRICE_LOOKBACK_DAYS\": 180\n",
        "    })()\n",
        "\n",
        "TICKERS = [\"XYL\", \"AAPL\", \"MSFT\", \"GOOGL\"]  # <-- change or add more tickets here.\n",
        "\n",
        "def _execute_sequential(ticker: str, cfg_obj) -> dict:\n",
        "    \"\"\"Fallback secuencial por si el grafo da error con '_cfg' u otro.\"\"\"\n",
        "    init_state = {\n",
        "        \"ticker\": ticker,\n",
        "        \"_prices\": None,\n",
        "        \"indicators\": {},\n",
        "        \"news\": [],\n",
        "        \"headlines\": [],\n",
        "        \"financials\": {},\n",
        "        \"report\": \"\",\n",
        "        \"logs\": [],\n",
        "        \"_cfg\": {\n",
        "            \"DAYS_NEWS\": cfg_obj.DAYS_NEWS,\n",
        "            \"MAX_NEWS\": cfg_obj.MAX_NEWS,\n",
        "            \"HEADLINES_TOPK\": cfg_obj.HEADLINES_TOPK,\n",
        "            \"PRICE_LOOKBACK_DAYS\": cfg_obj.PRICE_LOOKBACK_DAYS\n",
        "        },\n",
        "    }\n",
        "    # Nodes following order established.\n",
        "    state = init_state\n",
        "    for fn in [validate_ticker, load_prices, compute_indicators, gather_news, get_financials, draft_report]:\n",
        "        state = fn(state)\n",
        "    return state\n",
        "\n",
        "for tk in TICKERS:\n",
        "    #print(\"=\" * 100)\n",
        "    #print(f\"Running agent for: {tk}\")\n",
        "    console.rule(f\"[bold]Running agent for: {tk}\")\n",
        "\n",
        "    state = None\n",
        "    # 1) Try with run_agent:\n",
        "    if \"run_agent\" in globals():\n",
        "        try:\n",
        "            state = run_agent(tk, cfg)\n",
        "        except KeyError as e:\n",
        "            if str(e) == \"'_cfg'\":\n",
        "                print(\"[WARN] KeyError '_cfg' in graph. Running sequential fallback...\")\n",
        "                state = _execute_sequential(tk, cfg)\n",
        "            else:\n",
        "                raise\n",
        "        except Exception as e:\n",
        "            print(f\"[WARN] Error in graph: {e}\\nRetrying with sequential execution...\")\n",
        "            state = _execute_sequential(tk, cfg)\n",
        "    else:\n",
        "        # 2) If there's no a run_agent, use a sequential mode directly:\n",
        "        state = _execute_sequential(tk, cfg)\n",
        "\n",
        "    # --- Output ---\n",
        "    #print(\"\\n--- Current Valuation (raw) ---\")\n",
        "    #pprint(state.get(\"financials\"))\n",
        "\n",
        "    #print(\"\\n--- Recent Headlines ---\")\n",
        "    #for h in state.get(\"headlines\", []):\n",
        "    #    print(f\"- {h}\")\n",
        "    console.rule(\"[bold green]Final Report\")\n",
        "    console.print(Panel.fit(state.get(\"report\", \"\").strip()))\n"
      ]
    }
  ],
  "metadata": {
    "colab": {
      "provenance": []
    },
    "kernelspec": {
      "display_name": "Python 3",
      "name": "python3"
    },
    "language_info": {
      "name": "python"
    }
  },
  "nbformat": 4,
  "nbformat_minor": 0
}
